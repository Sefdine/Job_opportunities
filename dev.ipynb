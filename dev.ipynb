{
 "cells": [
  {
   "cell_type": "code",
   "execution_count": 2,
   "metadata": {},
   "outputs": [],
   "source": [
    "# Import necessary packages\n",
    "import pandas as pd"
   ]
  },
  {
   "cell_type": "code",
   "execution_count": 3,
   "metadata": {},
   "outputs": [],
   "source": [
    "# Load dataset\n",
    "df = pd.read_csv('job_opportunities.csv', encoding='ISO-8859-1')"
   ]
  },
  {
   "cell_type": "markdown",
   "metadata": {},
   "source": [
    "### Cleaning"
   ]
  },
  {
   "cell_type": "code",
   "execution_count": 6,
   "metadata": {},
   "outputs": [],
   "source": [
    "# Drop last row\n",
    "df.drop(df.loc[df['Company'].isnull()].index, axis='rows', inplace=True)"
   ]
  },
  {
   "cell_type": "code",
   "execution_count": 9,
   "metadata": {},
   "outputs": [],
   "source": [
    "df.drop_duplicates(inplace=True)"
   ]
  },
  {
   "cell_type": "code",
   "execution_count": 30,
   "metadata": {},
   "outputs": [],
   "source": [
    "df_salary_isnull = df.loc[df['Salary'].isnull()]"
   ]
  },
  {
   "cell_type": "code",
   "execution_count": 31,
   "metadata": {},
   "outputs": [],
   "source": [
    "df.drop(df_salary_isnull.index, inplace=True)"
   ]
  },
  {
   "cell_type": "code",
   "execution_count": 21,
   "metadata": {},
   "outputs": [
    {
     "name": "stdout",
     "output_type": "stream",
     "text": [
      "<class 'pandas.core.frame.DataFrame'>\n",
      "Int64Index: 2995 entries, 0 to 3196\n",
      "Data columns (total 8 columns):\n",
      " #   Column                      Non-Null Count  Dtype \n",
      "---  ------                      --------------  ----- \n",
      " 0   Company                     2995 non-null   object\n",
      " 1   Job Title                   2995 non-null   object\n",
      " 2   Location                    2995 non-null   object\n",
      " 3   Job Type                    2995 non-null   object\n",
      " 4   Experience level            2768 non-null   object\n",
      " 5   Salary                      2824 non-null   object\n",
      " 6   Requirment of the company   2995 non-null   object\n",
      " 7   Facilities                  2995 non-null   object\n",
      "dtypes: object(8)\n",
      "memory usage: 210.6+ KB\n"
     ]
    }
   ],
   "source": [
    "df.info()"
   ]
  },
  {
   "cell_type": "code",
   "execution_count": 32,
   "metadata": {},
   "outputs": [],
   "source": [
    "df['Salary'] = df['Salary'].apply(lambda x: str.strip(x))"
   ]
  },
  {
   "cell_type": "code",
   "execution_count": 34,
   "metadata": {},
   "outputs": [],
   "source": [
    "# Create new column that contains stars True or False\n",
    "df['Salary_has_star'] = df['Salary'].str.contains('\\*')"
   ]
  },
  {
   "cell_type": "code",
   "execution_count": 35,
   "metadata": {},
   "outputs": [
    {
     "data": {
      "text/plain": [
       "(2261, 9)"
      ]
     },
     "execution_count": 35,
     "metadata": {},
     "output_type": "execute_result"
    }
   ],
   "source": [
    "df.loc[df['Salary_has_star'] == True].shape"
   ]
  },
  {
   "cell_type": "code",
   "execution_count": 44,
   "metadata": {},
   "outputs": [],
   "source": [
    "df['Salary'] = df['Salary'].apply(lambda x: str.replace(x, '+', ''))\n",
    "df['Salary'] = df['Salary'].apply(lambda x: str.replace(x, '*', ''))\n",
    "df['Salary'] = df['Salary'].apply(lambda x: str.replace(x, 'K', ''))\n",
    "df['Salary'] = df['Salary'].apply(lambda x: str.strip(x))"
   ]
  },
  {
   "cell_type": "code",
   "execution_count": 46,
   "metadata": {},
   "outputs": [
    {
     "data": {
      "text/plain": [
       "array(['48', '90', '108', '184', '39', '140', '40', '80', '35', '62',\n",
       "       '159', '97', '92', '129', '115', '44', '73', '59', '106', '105',\n",
       "       '55', '110', '63', '49', '180', '127', '60', '45', '135', '69',\n",
       "       '176', '65', '51', '67', '104', '166', '131', '43', '81', '96',\n",
       "       '56', '130', '50', '100', '52', '76', '172', '119', '125', '116',\n",
       "       '77', '74', '70', '120', '189', '149', '30', '167', '236', '179',\n",
       "       '200', '139', '113', '150', '158', '133', '78', '36', '122',\n",
       "       'EUR 81', '190', '72', '136', '102', '31', '89', '156', '107',\n",
       "       '199', '224', '142', 'GBP 35', '183', '164', 'EUR 130', '174',\n",
       "       '84', '79', '103', '143', '175', '170', '141', '283', '151', '111',\n",
       "       '148', '204', '202', '295', '68', '195', '145', '267', '109',\n",
       "       '310', '153', '154', '86', '207', '85', '66', '315', '160', '144',\n",
       "       '245', '126', '182', '157', '214', '173', 'EUR 80', 'EUR 36',\n",
       "       'EUR 60', 'GBP 42', '112', '124', '185', '147', 'GBP 80', '146',\n",
       "       '165', '75', '163', '193', 'GBP 60', '218', '230', '168', '134',\n",
       "       '225', '253', '83', '235', '187', '227', '61', '171', '234',\n",
       "       'GBP 45', '155', '71', '94', '57', '197', '82', '177', 'GBP 50',\n",
       "       '93', '121', '42', '152', '161', '132', 'GBP 55', '138', '196',\n",
       "       '205', 'GBP 65', '178', '95', '33', '54', '98', '99', '220',\n",
       "       'GBP 51', '128', 'GBP 54', '123', '117'], dtype=object)"
      ]
     },
     "execution_count": 46,
     "metadata": {},
     "output_type": "execute_result"
    }
   ],
   "source": [
    "df['Currency'] = df['Salary'].unique()"
   ]
  },
  {
   "cell_type": "code",
   "execution_count": 41,
   "metadata": {},
   "outputs": [
    {
     "data": {
      "text/plain": [
       "'48'"
      ]
     },
     "execution_count": 41,
     "metadata": {},
     "output_type": "execute_result"
    }
   ],
   "source": [
    "df['Salary'][0]"
   ]
  }
 ],
 "metadata": {
  "kernelspec": {
   "display_name": "Python 3",
   "language": "python",
   "name": "python3"
  },
  "language_info": {
   "codemirror_mode": {
    "name": "ipython",
    "version": 3
   },
   "file_extension": ".py",
   "mimetype": "text/x-python",
   "name": "python",
   "nbconvert_exporter": "python",
   "pygments_lexer": "ipython3",
   "version": "3.10.6"
  },
  "orig_nbformat": 4
 },
 "nbformat": 4,
 "nbformat_minor": 2
}
